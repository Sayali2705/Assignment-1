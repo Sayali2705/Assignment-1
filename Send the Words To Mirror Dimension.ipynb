{
 "cells": [
  {
   "cell_type": "code",
   "execution_count": null,
   "id": "68cf1d10",
   "metadata": {},
   "outputs": [],
   "source": [
    "Write a Python program that accepts a word from the user and reverse it.\n",
    "\n",
    "Sample Test Case\n",
    "\n",
    "\n",
    "Input : Edyoda\n",
    "\n",
    "output: adoydE"
   ]
  },
  {
   "cell_type": "markdown",
   "id": "d7024186",
   "metadata": {},
   "source": [
    "# for loop"
   ]
  },
  {
   "cell_type": "code",
   "execution_count": 1,
   "id": "41a28285",
   "metadata": {},
   "outputs": [
    {
     "name": "stdout",
     "output_type": "stream",
     "text": [
      "Input :  Edyoda\n",
      "Output :  adoydE\n"
     ]
    }
   ],
   "source": [
    "a = \"Edyoda\"\n",
    "b = ''\n",
    "\n",
    "for i in a:\n",
    "    b = i + b\n",
    "    \n",
    "print(\"Input : \", a)\n",
    "print(\"Output : \", b)"
   ]
  },
  {
   "cell_type": "markdown",
   "id": "bb851bb8",
   "metadata": {},
   "source": [
    "# while loop"
   ]
  },
  {
   "cell_type": "code",
   "execution_count": 4,
   "id": "8202da3d",
   "metadata": {},
   "outputs": [
    {
     "name": "stdout",
     "output_type": "stream",
     "text": [
      "Input :  Edyoda\n",
      "Output :  adoydE\n"
     ]
    }
   ],
   "source": [
    "a = \"Edyoda\"\n",
    "b = ''\n",
    "i = len(a) - 1\n",
    "\n",
    "while(i >= 0):\n",
    "    b = b + a[i]\n",
    "    i = i - 1\n",
    "    \n",
    "print(\"Input : \",a)\n",
    "print(\"Output : \",b)"
   ]
  }
 ],
 "metadata": {
  "kernelspec": {
   "display_name": "Python 3 (ipykernel)",
   "language": "python",
   "name": "python3"
  },
  "language_info": {
   "codemirror_mode": {
    "name": "ipython",
    "version": 3
   },
   "file_extension": ".py",
   "mimetype": "text/x-python",
   "name": "python",
   "nbconvert_exporter": "python",
   "pygments_lexer": "ipython3",
   "version": "3.10.2"
  }
 },
 "nbformat": 4,
 "nbformat_minor": 5
}
